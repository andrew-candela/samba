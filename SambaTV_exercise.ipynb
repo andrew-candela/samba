{
 "cells": [
  {
   "cell_type": "markdown",
   "metadata": {},
   "source": [
    "# SambaTV Challenge:\n",
    "\n",
    "## Preliminary\n",
    "\n",
    "Let's start by loading everything we need and examining the data. Then we can start digging in."
   ]
  },
  {
   "cell_type": "code",
   "execution_count": 1,
   "metadata": {
    "collapsed": false
   },
   "outputs": [
    {
     "name": "stderr",
     "output_type": "stream",
     "text": [
      "/Users/acandela/anaconda2/lib/python2.7/site-packages/IPython/core/interactiveshell.py:2885: FutureWarning: \n",
      "mpl_style had been deprecated and will be removed in a future version.\n",
      "Use `matplotlib.pyplot.style.use` instead.\n",
      "\n",
      "  exec(code_obj, self.user_global_ns, self.user_ns)\n"
     ]
    }
   ],
   "source": [
    "%matplotlib inline\n",
    "import statsmodels.api as sm\n",
    "import pandas as pd\n",
    "from matplotlib import pyplot as plt\n",
    "from pandasql import sqldf\n",
    "from __future__ import division\n",
    "import datetime as dt\n",
    "import numpy as np\n",
    "pysqldf = lambda q: sqldf(q, globals())\n",
    "\n",
    "pd.set_option('display.mpl_style', 'default')"
   ]
  },
  {
   "cell_type": "code",
   "execution_count": 2,
   "metadata": {
    "collapsed": false
   },
   "outputs": [],
   "source": [
    "#load data\n",
    "test = pd.read_csv('test_table.csv',sep=',',header=0)\n",
    "user = pd.read_csv('user_table.csv',sep=',',header=0)\n",
    "\n",
    "test['date']=pd.to_datetime(test['date'],format='%Y-%m-%d')\n"
   ]
  },
  {
   "cell_type": "code",
   "execution_count": 102,
   "metadata": {
    "collapsed": false
   },
   "outputs": [
    {
     "data": {
      "text/html": [
       "<div>\n",
       "<table border=\"1\" class=\"dataframe\">\n",
       "  <thead>\n",
       "    <tr style=\"text-align: right;\">\n",
       "      <th></th>\n",
       "      <th>user_id</th>\n",
       "      <th>date</th>\n",
       "      <th>source</th>\n",
       "      <th>device</th>\n",
       "      <th>browser_language</th>\n",
       "      <th>ads_channel</th>\n",
       "      <th>browser</th>\n",
       "      <th>conversion</th>\n",
       "      <th>test</th>\n",
       "    </tr>\n",
       "  </thead>\n",
       "  <tbody>\n",
       "    <tr>\n",
       "      <th>0</th>\n",
       "      <td>315281</td>\n",
       "      <td>2015-12-03</td>\n",
       "      <td>Direct</td>\n",
       "      <td>Web</td>\n",
       "      <td>ES</td>\n",
       "      <td>NaN</td>\n",
       "      <td>IE</td>\n",
       "      <td>1</td>\n",
       "      <td>0</td>\n",
       "    </tr>\n",
       "    <tr>\n",
       "      <th>1</th>\n",
       "      <td>497851</td>\n",
       "      <td>2015-12-04</td>\n",
       "      <td>Ads</td>\n",
       "      <td>Web</td>\n",
       "      <td>ES</td>\n",
       "      <td>Google</td>\n",
       "      <td>IE</td>\n",
       "      <td>0</td>\n",
       "      <td>1</td>\n",
       "    </tr>\n",
       "    <tr>\n",
       "      <th>2</th>\n",
       "      <td>848402</td>\n",
       "      <td>2015-12-04</td>\n",
       "      <td>Ads</td>\n",
       "      <td>Web</td>\n",
       "      <td>ES</td>\n",
       "      <td>Facebook</td>\n",
       "      <td>Chrome</td>\n",
       "      <td>0</td>\n",
       "      <td>0</td>\n",
       "    </tr>\n",
       "    <tr>\n",
       "      <th>3</th>\n",
       "      <td>290051</td>\n",
       "      <td>2015-12-03</td>\n",
       "      <td>Ads</td>\n",
       "      <td>Mobile</td>\n",
       "      <td>Other</td>\n",
       "      <td>Facebook</td>\n",
       "      <td>Android_App</td>\n",
       "      <td>0</td>\n",
       "      <td>1</td>\n",
       "    </tr>\n",
       "    <tr>\n",
       "      <th>4</th>\n",
       "      <td>548435</td>\n",
       "      <td>2015-11-30</td>\n",
       "      <td>Ads</td>\n",
       "      <td>Web</td>\n",
       "      <td>ES</td>\n",
       "      <td>Google</td>\n",
       "      <td>FireFox</td>\n",
       "      <td>0</td>\n",
       "      <td>1</td>\n",
       "    </tr>\n",
       "  </tbody>\n",
       "</table>\n",
       "</div>"
      ],
      "text/plain": [
       "   user_id       date  source  device browser_language ads_channel  \\\n",
       "0   315281 2015-12-03  Direct     Web               ES         NaN   \n",
       "1   497851 2015-12-04     Ads     Web               ES      Google   \n",
       "2   848402 2015-12-04     Ads     Web               ES    Facebook   \n",
       "3   290051 2015-12-03     Ads  Mobile            Other    Facebook   \n",
       "4   548435 2015-11-30     Ads     Web               ES      Google   \n",
       "\n",
       "       browser  conversion  test  \n",
       "0           IE           1     0  \n",
       "1           IE           0     1  \n",
       "2       Chrome           0     0  \n",
       "3  Android_App           0     1  \n",
       "4      FireFox           0     1  "
      ]
     },
     "execution_count": 102,
     "metadata": {},
     "output_type": "execute_result"
    }
   ],
   "source": [
    "test.head()"
   ]
  },
  {
   "cell_type": "code",
   "execution_count": 20,
   "metadata": {
    "collapsed": false
   },
   "outputs": [
    {
     "data": {
      "text/html": [
       "<div>\n",
       "<table border=\"1\" class=\"dataframe\">\n",
       "  <thead>\n",
       "    <tr style=\"text-align: right;\">\n",
       "      <th></th>\n",
       "      <th>user_id</th>\n",
       "      <th>sex</th>\n",
       "      <th>age</th>\n",
       "      <th>country</th>\n",
       "    </tr>\n",
       "  </thead>\n",
       "  <tbody>\n",
       "    <tr>\n",
       "      <th>0</th>\n",
       "      <td>765821</td>\n",
       "      <td>M</td>\n",
       "      <td>20</td>\n",
       "      <td>Mexico</td>\n",
       "    </tr>\n",
       "    <tr>\n",
       "      <th>1</th>\n",
       "      <td>343561</td>\n",
       "      <td>F</td>\n",
       "      <td>27</td>\n",
       "      <td>Nicaragua</td>\n",
       "    </tr>\n",
       "    <tr>\n",
       "      <th>2</th>\n",
       "      <td>118744</td>\n",
       "      <td>M</td>\n",
       "      <td>23</td>\n",
       "      <td>Colombia</td>\n",
       "    </tr>\n",
       "    <tr>\n",
       "      <th>3</th>\n",
       "      <td>987753</td>\n",
       "      <td>F</td>\n",
       "      <td>27</td>\n",
       "      <td>Venezuela</td>\n",
       "    </tr>\n",
       "    <tr>\n",
       "      <th>4</th>\n",
       "      <td>554597</td>\n",
       "      <td>F</td>\n",
       "      <td>20</td>\n",
       "      <td>Spain</td>\n",
       "    </tr>\n",
       "  </tbody>\n",
       "</table>\n",
       "</div>"
      ],
      "text/plain": [
       "   user_id sex  age    country\n",
       "0   765821   M   20     Mexico\n",
       "1   343561   F   27  Nicaragua\n",
       "2   118744   M   23   Colombia\n",
       "3   987753   F   27  Venezuela\n",
       "4   554597   F   20      Spain"
      ]
     },
     "execution_count": 20,
     "metadata": {},
     "output_type": "execute_result"
    }
   ],
   "source": [
    "user.head()"
   ]
  },
  {
   "cell_type": "code",
   "execution_count": 21,
   "metadata": {
    "collapsed": false
   },
   "outputs": [
    {
     "data": {
      "text/html": [
       "<div>\n",
       "<table border=\"1\" class=\"dataframe\">\n",
       "  <thead>\n",
       "    <tr style=\"text-align: right;\">\n",
       "      <th></th>\n",
       "      <th>user_id</th>\n",
       "      <th>sex</th>\n",
       "      <th>age</th>\n",
       "      <th>country</th>\n",
       "    </tr>\n",
       "  </thead>\n",
       "  <tbody>\n",
       "    <tr>\n",
       "      <th>count</th>\n",
       "      <td>452867.000000</td>\n",
       "      <td>452867</td>\n",
       "      <td>452867.000000</td>\n",
       "      <td>452867</td>\n",
       "    </tr>\n",
       "    <tr>\n",
       "      <th>unique</th>\n",
       "      <td>NaN</td>\n",
       "      <td>2</td>\n",
       "      <td>NaN</td>\n",
       "      <td>17</td>\n",
       "    </tr>\n",
       "    <tr>\n",
       "      <th>top</th>\n",
       "      <td>NaN</td>\n",
       "      <td>M</td>\n",
       "      <td>NaN</td>\n",
       "      <td>Mexico</td>\n",
       "    </tr>\n",
       "    <tr>\n",
       "      <th>freq</th>\n",
       "      <td>NaN</td>\n",
       "      <td>264485</td>\n",
       "      <td>NaN</td>\n",
       "      <td>128484</td>\n",
       "    </tr>\n",
       "    <tr>\n",
       "      <th>mean</th>\n",
       "      <td>499944.805166</td>\n",
       "      <td>NaN</td>\n",
       "      <td>27.130740</td>\n",
       "      <td>NaN</td>\n",
       "    </tr>\n",
       "    <tr>\n",
       "      <th>std</th>\n",
       "      <td>288676.264784</td>\n",
       "      <td>NaN</td>\n",
       "      <td>6.776678</td>\n",
       "      <td>NaN</td>\n",
       "    </tr>\n",
       "    <tr>\n",
       "      <th>min</th>\n",
       "      <td>1.000000</td>\n",
       "      <td>NaN</td>\n",
       "      <td>18.000000</td>\n",
       "      <td>NaN</td>\n",
       "    </tr>\n",
       "    <tr>\n",
       "      <th>25%</th>\n",
       "      <td>249819.000000</td>\n",
       "      <td>NaN</td>\n",
       "      <td>22.000000</td>\n",
       "      <td>NaN</td>\n",
       "    </tr>\n",
       "    <tr>\n",
       "      <th>50%</th>\n",
       "      <td>500019.000000</td>\n",
       "      <td>NaN</td>\n",
       "      <td>26.000000</td>\n",
       "      <td>NaN</td>\n",
       "    </tr>\n",
       "    <tr>\n",
       "      <th>75%</th>\n",
       "      <td>749543.000000</td>\n",
       "      <td>NaN</td>\n",
       "      <td>31.000000</td>\n",
       "      <td>NaN</td>\n",
       "    </tr>\n",
       "    <tr>\n",
       "      <th>max</th>\n",
       "      <td>1000000.000000</td>\n",
       "      <td>NaN</td>\n",
       "      <td>70.000000</td>\n",
       "      <td>NaN</td>\n",
       "    </tr>\n",
       "  </tbody>\n",
       "</table>\n",
       "</div>"
      ],
      "text/plain": [
       "               user_id     sex            age country\n",
       "count    452867.000000  452867  452867.000000  452867\n",
       "unique             NaN       2            NaN      17\n",
       "top                NaN       M            NaN  Mexico\n",
       "freq               NaN  264485            NaN  128484\n",
       "mean     499944.805166     NaN      27.130740     NaN\n",
       "std      288676.264784     NaN       6.776678     NaN\n",
       "min           1.000000     NaN      18.000000     NaN\n",
       "25%      249819.000000     NaN      22.000000     NaN\n",
       "50%      500019.000000     NaN      26.000000     NaN\n",
       "75%      749543.000000     NaN      31.000000     NaN\n",
       "max     1000000.000000     NaN      70.000000     NaN"
      ]
     },
     "execution_count": 21,
     "metadata": {},
     "output_type": "execute_result"
    }
   ],
   "source": [
    "user.describe(include='all')"
   ]
  },
  {
   "cell_type": "code",
   "execution_count": 22,
   "metadata": {
    "collapsed": false
   },
   "outputs": [
    {
     "data": {
      "text/html": [
       "<div>\n",
       "<table border=\"1\" class=\"dataframe\">\n",
       "  <thead>\n",
       "    <tr style=\"text-align: right;\">\n",
       "      <th></th>\n",
       "      <th>user_id</th>\n",
       "      <th>date</th>\n",
       "      <th>source</th>\n",
       "      <th>device</th>\n",
       "      <th>browser_language</th>\n",
       "      <th>ads_channel</th>\n",
       "      <th>browser</th>\n",
       "      <th>conversion</th>\n",
       "      <th>test</th>\n",
       "    </tr>\n",
       "  </thead>\n",
       "  <tbody>\n",
       "    <tr>\n",
       "      <th>count</th>\n",
       "      <td>453321.000000</td>\n",
       "      <td>453321</td>\n",
       "      <td>453321</td>\n",
       "      <td>453321</td>\n",
       "      <td>453321</td>\n",
       "      <td>181877</td>\n",
       "      <td>453321</td>\n",
       "      <td>453321.000000</td>\n",
       "      <td>453321.000000</td>\n",
       "    </tr>\n",
       "    <tr>\n",
       "      <th>unique</th>\n",
       "      <td>NaN</td>\n",
       "      <td>5</td>\n",
       "      <td>3</td>\n",
       "      <td>2</td>\n",
       "      <td>3</td>\n",
       "      <td>5</td>\n",
       "      <td>7</td>\n",
       "      <td>NaN</td>\n",
       "      <td>NaN</td>\n",
       "    </tr>\n",
       "    <tr>\n",
       "      <th>top</th>\n",
       "      <td>NaN</td>\n",
       "      <td>2015-12-04 00:00:00</td>\n",
       "      <td>Ads</td>\n",
       "      <td>Web</td>\n",
       "      <td>ES</td>\n",
       "      <td>Facebook</td>\n",
       "      <td>Android_App</td>\n",
       "      <td>NaN</td>\n",
       "      <td>NaN</td>\n",
       "    </tr>\n",
       "    <tr>\n",
       "      <th>freq</th>\n",
       "      <td>NaN</td>\n",
       "      <td>141163</td>\n",
       "      <td>181877</td>\n",
       "      <td>251565</td>\n",
       "      <td>377547</td>\n",
       "      <td>68425</td>\n",
       "      <td>155135</td>\n",
       "      <td>NaN</td>\n",
       "      <td>NaN</td>\n",
       "    </tr>\n",
       "    <tr>\n",
       "      <th>first</th>\n",
       "      <td>NaN</td>\n",
       "      <td>2015-11-30 00:00:00</td>\n",
       "      <td>NaN</td>\n",
       "      <td>NaN</td>\n",
       "      <td>NaN</td>\n",
       "      <td>NaN</td>\n",
       "      <td>NaN</td>\n",
       "      <td>NaN</td>\n",
       "      <td>NaN</td>\n",
       "    </tr>\n",
       "    <tr>\n",
       "      <th>last</th>\n",
       "      <td>NaN</td>\n",
       "      <td>2015-12-04 00:00:00</td>\n",
       "      <td>NaN</td>\n",
       "      <td>NaN</td>\n",
       "      <td>NaN</td>\n",
       "      <td>NaN</td>\n",
       "      <td>NaN</td>\n",
       "      <td>NaN</td>\n",
       "      <td>NaN</td>\n",
       "    </tr>\n",
       "    <tr>\n",
       "      <th>mean</th>\n",
       "      <td>499937.514728</td>\n",
       "      <td>NaN</td>\n",
       "      <td>NaN</td>\n",
       "      <td>NaN</td>\n",
       "      <td>NaN</td>\n",
       "      <td>NaN</td>\n",
       "      <td>NaN</td>\n",
       "      <td>0.049579</td>\n",
       "      <td>0.476446</td>\n",
       "    </tr>\n",
       "    <tr>\n",
       "      <th>std</th>\n",
       "      <td>288665.193436</td>\n",
       "      <td>NaN</td>\n",
       "      <td>NaN</td>\n",
       "      <td>NaN</td>\n",
       "      <td>NaN</td>\n",
       "      <td>NaN</td>\n",
       "      <td>NaN</td>\n",
       "      <td>0.217073</td>\n",
       "      <td>0.499445</td>\n",
       "    </tr>\n",
       "    <tr>\n",
       "      <th>min</th>\n",
       "      <td>1.000000</td>\n",
       "      <td>NaN</td>\n",
       "      <td>NaN</td>\n",
       "      <td>NaN</td>\n",
       "      <td>NaN</td>\n",
       "      <td>NaN</td>\n",
       "      <td>NaN</td>\n",
       "      <td>0.000000</td>\n",
       "      <td>0.000000</td>\n",
       "    </tr>\n",
       "    <tr>\n",
       "      <th>25%</th>\n",
       "      <td>249816.000000</td>\n",
       "      <td>NaN</td>\n",
       "      <td>NaN</td>\n",
       "      <td>NaN</td>\n",
       "      <td>NaN</td>\n",
       "      <td>NaN</td>\n",
       "      <td>NaN</td>\n",
       "      <td>0.000000</td>\n",
       "      <td>0.000000</td>\n",
       "    </tr>\n",
       "    <tr>\n",
       "      <th>50%</th>\n",
       "      <td>500019.000000</td>\n",
       "      <td>NaN</td>\n",
       "      <td>NaN</td>\n",
       "      <td>NaN</td>\n",
       "      <td>NaN</td>\n",
       "      <td>NaN</td>\n",
       "      <td>NaN</td>\n",
       "      <td>0.000000</td>\n",
       "      <td>0.000000</td>\n",
       "    </tr>\n",
       "    <tr>\n",
       "      <th>75%</th>\n",
       "      <td>749522.000000</td>\n",
       "      <td>NaN</td>\n",
       "      <td>NaN</td>\n",
       "      <td>NaN</td>\n",
       "      <td>NaN</td>\n",
       "      <td>NaN</td>\n",
       "      <td>NaN</td>\n",
       "      <td>0.000000</td>\n",
       "      <td>1.000000</td>\n",
       "    </tr>\n",
       "    <tr>\n",
       "      <th>max</th>\n",
       "      <td>1000000.000000</td>\n",
       "      <td>NaN</td>\n",
       "      <td>NaN</td>\n",
       "      <td>NaN</td>\n",
       "      <td>NaN</td>\n",
       "      <td>NaN</td>\n",
       "      <td>NaN</td>\n",
       "      <td>1.000000</td>\n",
       "      <td>1.000000</td>\n",
       "    </tr>\n",
       "  </tbody>\n",
       "</table>\n",
       "</div>"
      ],
      "text/plain": [
       "               user_id                 date  source  device browser_language  \\\n",
       "count    453321.000000               453321  453321  453321           453321   \n",
       "unique             NaN                    5       3       2                3   \n",
       "top                NaN  2015-12-04 00:00:00     Ads     Web               ES   \n",
       "freq               NaN               141163  181877  251565           377547   \n",
       "first              NaN  2015-11-30 00:00:00     NaN     NaN              NaN   \n",
       "last               NaN  2015-12-04 00:00:00     NaN     NaN              NaN   \n",
       "mean     499937.514728                  NaN     NaN     NaN              NaN   \n",
       "std      288665.193436                  NaN     NaN     NaN              NaN   \n",
       "min           1.000000                  NaN     NaN     NaN              NaN   \n",
       "25%      249816.000000                  NaN     NaN     NaN              NaN   \n",
       "50%      500019.000000                  NaN     NaN     NaN              NaN   \n",
       "75%      749522.000000                  NaN     NaN     NaN              NaN   \n",
       "max     1000000.000000                  NaN     NaN     NaN              NaN   \n",
       "\n",
       "       ads_channel      browser     conversion           test  \n",
       "count       181877       453321  453321.000000  453321.000000  \n",
       "unique           5            7            NaN            NaN  \n",
       "top       Facebook  Android_App            NaN            NaN  \n",
       "freq         68425       155135            NaN            NaN  \n",
       "first          NaN          NaN            NaN            NaN  \n",
       "last           NaN          NaN            NaN            NaN  \n",
       "mean           NaN          NaN       0.049579       0.476446  \n",
       "std            NaN          NaN       0.217073       0.499445  \n",
       "min            NaN          NaN       0.000000       0.000000  \n",
       "25%            NaN          NaN       0.000000       0.000000  \n",
       "50%            NaN          NaN       0.000000       0.000000  \n",
       "75%            NaN          NaN       0.000000       1.000000  \n",
       "max            NaN          NaN       1.000000       1.000000  "
      ]
     },
     "execution_count": 22,
     "metadata": {},
     "output_type": "execute_result"
    }
   ],
   "source": [
    "test.describe(include='all')"
   ]
  },
  {
   "cell_type": "code",
   "execution_count": 12,
   "metadata": {
    "collapsed": false
   },
   "outputs": [
    {
     "data": {
      "text/html": [
       "<div>\n",
       "<table border=\"1\" class=\"dataframe\">\n",
       "  <thead>\n",
       "    <tr style=\"text-align: right;\">\n",
       "      <th></th>\n",
       "      <th>user_id</th>\n",
       "      <th>conversion</th>\n",
       "      <th>test</th>\n",
       "    </tr>\n",
       "  </thead>\n",
       "  <tbody>\n",
       "    <tr>\n",
       "      <th>count</th>\n",
       "      <td>453321.000000</td>\n",
       "      <td>453321.000000</td>\n",
       "      <td>453321.000000</td>\n",
       "    </tr>\n",
       "    <tr>\n",
       "      <th>mean</th>\n",
       "      <td>499937.514728</td>\n",
       "      <td>0.049579</td>\n",
       "      <td>0.476446</td>\n",
       "    </tr>\n",
       "    <tr>\n",
       "      <th>std</th>\n",
       "      <td>288665.193436</td>\n",
       "      <td>0.217073</td>\n",
       "      <td>0.499445</td>\n",
       "    </tr>\n",
       "    <tr>\n",
       "      <th>min</th>\n",
       "      <td>1.000000</td>\n",
       "      <td>0.000000</td>\n",
       "      <td>0.000000</td>\n",
       "    </tr>\n",
       "    <tr>\n",
       "      <th>25%</th>\n",
       "      <td>249816.000000</td>\n",
       "      <td>0.000000</td>\n",
       "      <td>0.000000</td>\n",
       "    </tr>\n",
       "    <tr>\n",
       "      <th>50%</th>\n",
       "      <td>500019.000000</td>\n",
       "      <td>0.000000</td>\n",
       "      <td>0.000000</td>\n",
       "    </tr>\n",
       "    <tr>\n",
       "      <th>75%</th>\n",
       "      <td>749522.000000</td>\n",
       "      <td>0.000000</td>\n",
       "      <td>1.000000</td>\n",
       "    </tr>\n",
       "    <tr>\n",
       "      <th>max</th>\n",
       "      <td>1000000.000000</td>\n",
       "      <td>1.000000</td>\n",
       "      <td>1.000000</td>\n",
       "    </tr>\n",
       "  </tbody>\n",
       "</table>\n",
       "</div>"
      ],
      "text/plain": [
       "              user_id     conversion           test\n",
       "count   453321.000000  453321.000000  453321.000000\n",
       "mean    499937.514728       0.049579       0.476446\n",
       "std     288665.193436       0.217073       0.499445\n",
       "min          1.000000       0.000000       0.000000\n",
       "25%     249816.000000       0.000000       0.000000\n",
       "50%     500019.000000       0.000000       0.000000\n",
       "75%     749522.000000       0.000000       1.000000\n",
       "max    1000000.000000       1.000000       1.000000"
      ]
     },
     "execution_count": 12,
     "metadata": {},
     "output_type": "execute_result"
    }
   ],
   "source": [
    "test.describe()"
   ]
  },
  {
   "cell_type": "code",
   "execution_count": 25,
   "metadata": {
    "collapsed": false
   },
   "outputs": [
    {
     "data": {
      "text/plain": [
       "user_id                  0\n",
       "date                     0\n",
       "source                   0\n",
       "device                   0\n",
       "browser_language         0\n",
       "ads_channel         271444\n",
       "browser                  0\n",
       "conversion               0\n",
       "test                     0\n",
       "dtype: int64"
      ]
     },
     "execution_count": 25,
     "metadata": {},
     "output_type": "execute_result"
    }
   ],
   "source": [
    "test.isnull().sum()"
   ]
  },
  {
   "cell_type": "code",
   "execution_count": 103,
   "metadata": {
    "collapsed": false
   },
   "outputs": [
    {
     "data": {
      "text/plain": [
       "<matplotlib.axes._subplots.AxesSubplot at 0x118296dd0>"
      ]
     },
     "execution_count": 103,
     "metadata": {},
     "output_type": "execute_result"
    },
    {
     "data": {
      "image/png": "[encoded data removed]",
      "text/plain": [
       "<matplotlib.figure.Figure at 0x1182c0210>"
      ]
     },
     "metadata": {},
     "output_type": "display_data"
    }
   ],
   "source": [
    "#check dates for test - nothing strange here. Lots more users on the 4th and 3rd (weekend? - no, 4th was a Friday)\n",
    "test.groupby(['date','test']).count().unstack()['user_id'].plot(kind='bar',stacked=False)"
   ]
  },
  {
   "cell_type": "markdown",
   "metadata": {},
   "source": [
    "### So far so good.\n",
    "Looks like there is nothing wrong with the data at the outset (null vals, duplicate users etc). Let's join the two datasets and get one with all of the user dimensions included. It's probably not best practice to load everything into mem right at the get go, but the data size is pretty manageable so I'll do it."
   ]
  },
  {
   "cell_type": "code",
   "execution_count": 3,
   "metadata": {
    "collapsed": true
   },
   "outputs": [],
   "source": [
    "df=pd.merge(test,user,how='inner',on='user_id')"
   ]
  },
  {
   "cell_type": "code",
   "execution_count": 160,
   "metadata": {
    "collapsed": false
   },
   "outputs": [
    {
     "data": {
      "text/html": [
       "<div>\n",
       "<table border=\"1\" class=\"dataframe\">\n",
       "  <thead>\n",
       "    <tr style=\"text-align: right;\">\n",
       "      <th></th>\n",
       "      <th>user_id</th>\n",
       "      <th>date</th>\n",
       "      <th>source</th>\n",
       "      <th>device</th>\n",
       "      <th>browser_language</th>\n",
       "      <th>ads_channel</th>\n",
       "      <th>browser</th>\n",
       "      <th>conversion</th>\n",
       "      <th>test</th>\n",
       "      <th>sex</th>\n",
       "      <th>age</th>\n",
       "      <th>country</th>\n",
       "      <th>control</th>\n",
       "    </tr>\n",
       "  </thead>\n",
       "  <tbody>\n",
       "    <tr>\n",
       "      <th>0</th>\n",
       "      <td>315281</td>\n",
       "      <td>2015-12-03</td>\n",
       "      <td>Direct</td>\n",
       "      <td>Web</td>\n",
       "      <td>ES</td>\n",
       "      <td>NaN</td>\n",
       "      <td>IE</td>\n",
       "      <td>1</td>\n",
       "      <td>0</td>\n",
       "      <td>M</td>\n",
       "      <td>32</td>\n",
       "      <td>Spain</td>\n",
       "      <td>1</td>\n",
       "    </tr>\n",
       "    <tr>\n",
       "      <th>1</th>\n",
       "      <td>497851</td>\n",
       "      <td>2015-12-04</td>\n",
       "      <td>Ads</td>\n",
       "      <td>Web</td>\n",
       "      <td>ES</td>\n",
       "      <td>Google</td>\n",
       "      <td>IE</td>\n",
       "      <td>0</td>\n",
       "      <td>1</td>\n",
       "      <td>M</td>\n",
       "      <td>21</td>\n",
       "      <td>Mexico</td>\n",
       "      <td>0</td>\n",
       "    </tr>\n",
       "    <tr>\n",
       "      <th>2</th>\n",
       "      <td>848402</td>\n",
       "      <td>2015-12-04</td>\n",
       "      <td>Ads</td>\n",
       "      <td>Web</td>\n",
       "      <td>ES</td>\n",
       "      <td>Facebook</td>\n",
       "      <td>Chrome</td>\n",
       "      <td>0</td>\n",
       "      <td>0</td>\n",
       "      <td>M</td>\n",
       "      <td>34</td>\n",
       "      <td>Spain</td>\n",
       "      <td>1</td>\n",
       "    </tr>\n",
       "    <tr>\n",
       "      <th>3</th>\n",
       "      <td>290051</td>\n",
       "      <td>2015-12-03</td>\n",
       "      <td>Ads</td>\n",
       "      <td>Mobile</td>\n",
       "      <td>Other</td>\n",
       "      <td>Facebook</td>\n",
       "      <td>Android_App</td>\n",
       "      <td>0</td>\n",
       "      <td>1</td>\n",
       "      <td>F</td>\n",
       "      <td>22</td>\n",
       "      <td>Mexico</td>\n",
       "      <td>0</td>\n",
       "    </tr>\n",
       "    <tr>\n",
       "      <th>4</th>\n",
       "      <td>548435</td>\n",
       "      <td>2015-11-30</td>\n",
       "      <td>Ads</td>\n",
       "      <td>Web</td>\n",
       "      <td>ES</td>\n",
       "      <td>Google</td>\n",
       "      <td>FireFox</td>\n",
       "      <td>0</td>\n",
       "      <td>1</td>\n",
       "      <td>M</td>\n",
       "      <td>19</td>\n",
       "      <td>Mexico</td>\n",
       "      <td>0</td>\n",
       "    </tr>\n",
       "  </tbody>\n",
       "</table>\n",
       "</div>"
      ],
      "text/plain": [
       "   user_id       date  source  device browser_language ads_channel  \\\n",
       "0   315281 2015-12-03  Direct     Web               ES         NaN   \n",
       "1   497851 2015-12-04     Ads     Web               ES      Google   \n",
       "2   848402 2015-12-04     Ads     Web               ES    Facebook   \n",
       "3   290051 2015-12-03     Ads  Mobile            Other    Facebook   \n",
       "4   548435 2015-11-30     Ads     Web               ES      Google   \n",
       "\n",
       "       browser  conversion  test sex  age country  control  \n",
       "0           IE           1     0   M   32   Spain        1  \n",
       "1           IE           0     1   M   21  Mexico        0  \n",
       "2       Chrome           0     0   M   34   Spain        1  \n",
       "3  Android_App           0     1   F   22  Mexico        0  \n",
       "4      FireFox           0     1   M   19  Mexico        0  "
      ]
     },
     "execution_count": 160,
     "metadata": {},
     "output_type": "execute_result"
    }
   ],
   "source": [
    "df.head()"
   ]
  },
  {
   "cell_type": "code",
   "execution_count": 105,
   "metadata": {
    "collapsed": false
   },
   "outputs": [
    {
     "data": {
      "text/html": [
       "<div>\n",
       "<table border=\"1\" class=\"dataframe\">\n",
       "  <thead>\n",
       "    <tr style=\"text-align: right;\">\n",
       "      <th></th>\n",
       "      <th>test</th>\n",
       "      <th>conversions</th>\n",
       "      <th>users</th>\n",
       "      <th>response_rate</th>\n",
       "    </tr>\n",
       "  </thead>\n",
       "  <tbody>\n",
       "    <tr>\n",
       "      <th>0</th>\n",
       "      <td>0</td>\n",
       "      <td>13077</td>\n",
       "      <td>237093</td>\n",
       "      <td>0.055156</td>\n",
       "    </tr>\n",
       "    <tr>\n",
       "      <th>1</th>\n",
       "      <td>1</td>\n",
       "      <td>9367</td>\n",
       "      <td>215774</td>\n",
       "      <td>0.043411</td>\n",
       "    </tr>\n",
       "  </tbody>\n",
       "</table>\n",
       "</div>"
      ],
      "text/plain": [
       "   test  conversions   users  response_rate\n",
       "0     0        13077  237093       0.055156\n",
       "1     1         9367  215774       0.043411"
      ]
     },
     "execution_count": 105,
     "metadata": {},
     "output_type": "execute_result"
    }
   ],
   "source": [
    "#plot overall response rate\n",
    "q=\"\"\"select\n",
    "    test,\n",
    "    sum(conversion) as conversions,\n",
    "    count(conversion) as users\n",
    "from\n",
    "    df\n",
    "group by\n",
    "    test\n",
    "\"\"\"\n",
    "total_rr=pysqldf(q)\n",
    "total_rr['response_rate']=total_rr['conversions']/total_rr['users']\n",
    "total_rr"
   ]
  },
  {
   "cell_type": "markdown",
   "metadata": {},
   "source": [
    "# Why does the XYZ company think test was negative?\n",
    "I assume that they looked at the above response rate and immediately gave up. I suspect the poor result is due to a **simpsons paradox** like effect. Let's plot response rate by country to see if the negative results hold when sliced by country."
   ]
  },
  {
   "cell_type": "code",
   "execution_count": 163,
   "metadata": {
    "collapsed": false
   },
   "outputs": [],
   "source": [
    "#use this later\n",
    "country_conversions=df.groupby(['test','country']).sum()['conversion']\n",
    "country_counts=df.groupby(['test','country']).count()['conversion']"
   ]
  },
  {
   "cell_type": "code",
   "execution_count": 4,
   "metadata": {
    "collapsed": false
   },
   "outputs": [],
   "source": [
    "query=\"\"\"select\n",
    "    country,\n",
    "    test,\n",
    "    sum(conversion) as conversions,\n",
    "    count(conversion) as users\n",
    "from\n",
    "    df\n",
    "group by\n",
    "    country,\n",
    "    test\n",
    "\"\"\"\n",
    "rr=pysqldf(query)"
   ]
  },
  {
   "cell_type": "code",
   "execution_count": 5,
   "metadata": {
    "collapsed": false
   },
   "outputs": [],
   "source": [
    "#add a column computing response rate (because it uses integer division when I run it in the SQL)\n",
    "rr['response_rate']=rr['conversions']/rr['users']"
   ]
  },
  {
   "cell_type": "code",
   "execution_count": 7,
   "metadata": {
    "collapsed": false
   },
   "outputs": [
    {
     "data": {
      "text/plain": [
       "<matplotlib.axes._subplots.AxesSubplot at 0x16140a1d0>"
      ]
     },
     "execution_count": 7,
     "metadata": {},
     "output_type": "execute_result"
    },
    {
     "data": {
      "image/png": "[encoded data removed]",
      "text/plain": [
       "<matplotlib.figure.Figure at 0x16140a7d0>"
      ]
     },
     "metadata": {},
     "output_type": "display_data"
    }
   ],
   "source": [
    "#plot user counts by country to see how bad skew by test/control counts might be\n",
    "rr.groupby(['country','test']).sum().unstack()['users'].plot(kind='bar',stacked=False,figsize=(16, 5))\n",
    "#rr.groupby(['country','test']).sum().unstack()['users']"
   ]
  },
  {
   "cell_type": "code",
   "execution_count": 9,
   "metadata": {
    "collapsed": false
   },
   "outputs": [
    {
     "data": {
      "text/html": [
       "<div>\n",
       "<table border=\"1\" class=\"dataframe\">\n",
       "  <thead>\n",
       "    <tr style=\"text-align: right;\">\n",
       "      <th>country</th>\n",
       "      <th>Argentina</th>\n",
       "      <th>Bolivia</th>\n",
       "      <th>Chile</th>\n",
       "      <th>Colombia</th>\n",
       "      <th>Costa Rica</th>\n",
       "      <th>Ecuador</th>\n",
       "      <th>El Salvador</th>\n",
       "      <th>Guatemala</th>\n",
       "      <th>Honduras</th>\n",
       "      <th>Mexico</th>\n",
       "      <th>Nicaragua</th>\n",
       "      <th>Panama</th>\n",
       "      <th>Paraguay</th>\n",
       "      <th>Peru</th>\n",
       "      <th>Spain</th>\n",
       "      <th>Uruguay</th>\n",
       "      <th>Venezuela</th>\n",
       "    </tr>\n",
       "    <tr>\n",
       "      <th>test</th>\n",
       "      <th></th>\n",
       "      <th></th>\n",
       "      <th></th>\n",
       "      <th></th>\n",
       "      <th></th>\n",
       "      <th></th>\n",
       "      <th></th>\n",
       "      <th></th>\n",
       "      <th></th>\n",
       "      <th></th>\n",
       "      <th></th>\n",
       "      <th></th>\n",
       "      <th></th>\n",
       "      <th></th>\n",
       "      <th></th>\n",
       "      <th></th>\n",
       "      <th></th>\n",
       "    </tr>\n",
       "  </thead>\n",
       "  <tbody>\n",
       "    <tr>\n",
       "      <th>0</th>\n",
       "      <td>0.015071</td>\n",
       "      <td>0.049369</td>\n",
       "      <td>0.048107</td>\n",
       "      <td>0.052089</td>\n",
       "      <td>0.052256</td>\n",
       "      <td>0.049154</td>\n",
       "      <td>0.053554</td>\n",
       "      <td>0.050643</td>\n",
       "      <td>0.050906</td>\n",
       "      <td>0.049495</td>\n",
       "      <td>0.052647</td>\n",
       "      <td>0.046796</td>\n",
       "      <td>0.048493</td>\n",
       "      <td>0.049914</td>\n",
       "      <td>0.079719</td>\n",
       "      <td>0.012048</td>\n",
       "      <td>0.050344</td>\n",
       "    </tr>\n",
       "    <tr>\n",
       "      <th>1</th>\n",
       "      <td>0.013725</td>\n",
       "      <td>0.047901</td>\n",
       "      <td>0.051295</td>\n",
       "      <td>0.050571</td>\n",
       "      <td>0.054738</td>\n",
       "      <td>0.048988</td>\n",
       "      <td>0.047947</td>\n",
       "      <td>0.048647</td>\n",
       "      <td>0.047540</td>\n",
       "      <td>0.051186</td>\n",
       "      <td>0.054177</td>\n",
       "      <td>0.049370</td>\n",
       "      <td>0.049229</td>\n",
       "      <td>0.050604</td>\n",
       "      <td>NaN</td>\n",
       "      <td>0.012907</td>\n",
       "      <td>0.048978</td>\n",
       "    </tr>\n",
       "  </tbody>\n",
       "</table>\n",
       "</div>"
      ],
      "text/plain": [
       "country  Argentina   Bolivia     Chile  Colombia  Costa Rica   Ecuador  \\\n",
       "test                                                                     \n",
       "0         0.015071  0.049369  0.048107  0.052089    0.052256  0.049154   \n",
       "1         0.013725  0.047901  0.051295  0.050571    0.054738  0.048988   \n",
       "\n",
       "country  El Salvador  Guatemala  Honduras    Mexico  Nicaragua    Panama  \\\n",
       "test                                                                       \n",
       "0           0.053554   0.050643  0.050906  0.049495   0.052647  0.046796   \n",
       "1           0.047947   0.048647  0.047540  0.051186   0.054177  0.049370   \n",
       "\n",
       "country  Paraguay      Peru     Spain   Uruguay  Venezuela  \n",
       "test                                                        \n",
       "0        0.048493  0.049914  0.079719  0.012048   0.050344  \n",
       "1        0.049229  0.050604       NaN  0.012907   0.048978  "
      ]
     },
     "execution_count": 9,
     "metadata": {},
     "output_type": "execute_result"
    }
   ],
   "source": [
    "#rr.groupby(['country','test']).sum().unstack()['response_rate'].plot(kind='bar',stacked=False,figsize=(15, 4))\n",
    "rr.groupby(['test','country']).sum().unstack()['response_rate']"
   ]
  },
  {
   "cell_type": "markdown",
   "metadata": {},
   "source": [
    "OK looks like some countries appear successful while others don't. That's good, because it confirms my suspicion that there is some information lost when we aggregate over everything. Oh! Look at this...\n",
    "### Spain has a vastly higher response rate than all of the other countries. Since it also has no test population, if I include Spain in other aggregations, it will drag up the percieved response rate of the control group (when I aggregate over country).\n",
    "\n",
    "### Also Argentina has much more (almost 4x) test users than control users. Since Argentina has a terrible response rate (almost as bad as uruguay) it will also drag the overall test results down. Uruguay also has way more test users than control users (proportionally). \n",
    "\n",
    "So this is looking good for my theory. Let's remove Spain, Argentina and Uruguay from the test altogether and see if any of the other variables look significant overall.\n",
    "This is gonna be a pain cause I'm still weak with Pandas, but let's get to work"
   ]
  },
  {
   "cell_type": "code",
   "execution_count": 112,
   "metadata": {
    "collapsed": false
   },
   "outputs": [],
   "source": [
    "#remove countries with poor test conditions (number of test and control users are not equal)\n",
    "df_scrubbed=df[~df.country.isin(['Spain','Uruguay','Argentina'])]"
   ]
  },
  {
   "cell_type": "code",
   "execution_count": 130,
   "metadata": {
    "collapsed": false
   },
   "outputs": [
    {
     "data": {
      "text/plain": [
       "<matplotlib.axes._subplots.AxesSubplot at 0x15a8152d0>"
      ]
     },
     "execution_count": 130,
     "metadata": {},
     "output_type": "execute_result"
    },
    {
     "data": {
      "image/png": "[encoded data removed]",
      "text/plain": [
       "<matplotlib.figure.Figure at 0x164dc2850>"
      ]
     },
     "metadata": {},
     "output_type": "display_data"
    }
   ],
   "source": [
    "#make sure I did this correctly\n",
    "df_scrubbed.groupby('country').count()['user_id'].plot(kind='bar')"
   ]
  },
  {
   "cell_type": "code",
   "execution_count": 114,
   "metadata": {
    "collapsed": true
   },
   "outputs": [],
   "source": [
    "qgender=\"\"\"select\n",
    "    sex,\n",
    "    test,\n",
    "    sum(conversion) as conversions,\n",
    "    count(conversion) as users\n",
    "from\n",
    "    df_scrubbed\n",
    "group by\n",
    "    sex,\n",
    "    test\n",
    "\"\"\"\n",
    "gender_rr=pysqldf(qgender)"
   ]
  },
  {
   "cell_type": "code",
   "execution_count": 115,
   "metadata": {
    "collapsed": false
   },
   "outputs": [
    {
     "data": {
      "text/plain": [
       "<matplotlib.axes._subplots.AxesSubplot at 0x16e3147d0>"
      ]
     },
     "execution_count": 115,
     "metadata": {},
     "output_type": "execute_result"
    },
    {
     "data": {
      "image/png": "[encoded data removed]",
      "text/plain": [
       "<matplotlib.figure.Figure at 0x16e37ae10>"
      ]
     },
     "metadata": {},
     "output_type": "display_data"
    }
   ],
   "source": [
    "gender_rr['response_rate']=gender_rr['conversions']/gender_rr['users']\n",
    "gender_rr.groupby(['sex','test']).sum().unstack()['response_rate'].plot(kind='bar',stacked=False,figsize=(15, 4))"
   ]
  },
  {
   "cell_type": "markdown",
   "metadata": {},
   "source": [
    "### OK - Gender is not a factor on it's own it seems"
   ]
  },
  {
   "cell_type": "code",
   "execution_count": 116,
   "metadata": {
    "collapsed": true
   },
   "outputs": [],
   "source": [
    "qsource=\"\"\"select\n",
    "    source,\n",
    "    test,\n",
    "    sum(conversion) as conversions,\n",
    "    count(conversion) as users\n",
    "from\n",
    "    df_scrubbed\n",
    "group by\n",
    "    source,\n",
    "    test\n",
    "\"\"\"\n",
    "source_rr=pysqldf(qsource)"
   ]
  },
  {
   "cell_type": "code",
   "execution_count": 117,
   "metadata": {
    "collapsed": false
   },
   "outputs": [
    {
     "data": {
      "text/plain": [
       "<matplotlib.axes._subplots.AxesSubplot at 0x167bdff10>"
      ]
     },
     "execution_count": 117,
     "metadata": {},
     "output_type": "execute_result"
    },
    {
     "data": {
      "image/png": "[encoded data removed]",
      "text/plain": [
       "<matplotlib.figure.Figure at 0x1217bff10>"
      ]
     },
     "metadata": {},
     "output_type": "display_data"
    }
   ],
   "source": [
    "source_rr['response_rate']=source_rr['conversions']/source_rr['users']\n",
    "source_rr.groupby(['source','test']).sum().unstack()['response_rate'].plot(kind='bar',stacked=False,figsize=(15, 4))"
   ]
  },
  {
   "cell_type": "markdown",
   "metadata": {},
   "source": [
    "### Neither is source "
   ]
  },
  {
   "cell_type": "code",
   "execution_count": 118,
   "metadata": {
    "collapsed": true
   },
   "outputs": [],
   "source": [
    "qdevice=\"\"\"select\n",
    "    device,\n",
    "    test,\n",
    "    sum(conversion) as conversions,\n",
    "    count(conversion) as users\n",
    "from\n",
    "    df_scrubbed\n",
    "group by\n",
    "    device,\n",
    "    test\n",
    "\"\"\"\n",
    "device_rr=pysqldf(qdevice)"
   ]
  },
  {
   "cell_type": "code",
   "execution_count": 119,
   "metadata": {
    "collapsed": false
   },
   "outputs": [
    {
     "data": {
      "text/plain": [
       "<matplotlib.axes._subplots.AxesSubplot at 0x167bc6bd0>"
      ]
     },
     "execution_count": 119,
     "metadata": {},
     "output_type": "execute_result"
    },
    {
     "data": {
      "image/png": "[encoded data removed]",
      "text/plain": [
       "<matplotlib.figure.Figure at 0x167c03150>"
      ]
     },
     "metadata": {},
     "output_type": "display_data"
    }
   ],
   "source": [
    "device_rr['response_rate']=device_rr['conversions']/device_rr['users']\n",
    "device_rr.groupby(['device','test']).sum().unstack()['response_rate'].plot(kind='bar',stacked=False,figsize=(15, 4))"
   ]
  },
  {
   "cell_type": "markdown",
   "metadata": {},
   "source": [
    "### Device also doesn't seem to be a driver of increased performance"
   ]
  },
  {
   "cell_type": "code",
   "execution_count": 120,
   "metadata": {
    "collapsed": true
   },
   "outputs": [],
   "source": [
    "qbrowserlanguage=\"\"\"select\n",
    "    browser_language,\n",
    "    test,\n",
    "    sum(conversion) as conversions,\n",
    "    count(conversion) as users\n",
    "from\n",
    "    df_scrubbed\n",
    "group by\n",
    "    browser_language,\n",
    "    test\n",
    "\"\"\"\n",
    "device_bl=pysqldf(qbrowserlanguage)"
   ]
  },
  {
   "cell_type": "code",
   "execution_count": 121,
   "metadata": {
    "collapsed": false
   },
   "outputs": [
    {
     "data": {
      "text/plain": [
       "<matplotlib.axes._subplots.AxesSubplot at 0x167bddad0>"
      ]
     },
     "execution_count": 121,
     "metadata": {},
     "output_type": "execute_result"
    },
    {
     "data": {
      "image/png": "[encoded data removed]",
      "text/plain": [
       "<matplotlib.figure.Figure at 0x11da67ad0>"
      ]
     },
     "metadata": {},
     "output_type": "display_data"
    }
   ],
   "source": [
    "device_bl['response_rate']=device_bl['conversions']/device_bl['users']\n",
    "device_bl.groupby(['browser_language','test']).sum().unstack()['response_rate'].plot(kind='bar',stacked=False,figsize=(15, 4))"
   ]
  },
  {
   "cell_type": "markdown",
   "metadata": {},
   "source": [
    "### OK Browser language may be indicative. Other seems to perform slightly better"
   ]
  },
  {
   "cell_type": "code",
   "execution_count": 122,
   "metadata": {
    "collapsed": true
   },
   "outputs": [],
   "source": [
    "qads_channel=\"\"\"select\n",
    "    ads_channel,\n",
    "    test,\n",
    "    sum(conversion) as conversions,\n",
    "    count(conversion) as users\n",
    "from\n",
    "    df_scrubbed\n",
    "group by\n",
    "    ads_channel,\n",
    "    test\n",
    "\"\"\"\n",
    "ads_ch=pysqldf(qads_channel)\n"
   ]
  },
  {
   "cell_type": "code",
   "execution_count": 123,
   "metadata": {
    "collapsed": false
   },
   "outputs": [
    {
     "data": {
      "text/plain": [
       "<matplotlib.axes._subplots.AxesSubplot at 0x164d89e10>"
      ]
     },
     "execution_count": 123,
     "metadata": {},
     "output_type": "execute_result"
    },
    {
     "data": {
      "image/png": "[encoded data removed]",
      "text/plain": [
       "<matplotlib.figure.Figure at 0x11da7ef90>"
      ]
     },
     "metadata": {},
     "output_type": "display_data"
    }
   ],
   "source": [
    "ads_ch['response_rate']=ads_ch['conversions']/ads_ch['users']\n",
    "ads_ch.groupby(['ads_channel','test']).sum().unstack()['response_rate'].plot(kind='bar',stacked=False,figsize=(15, 4))"
   ]
  },
  {
   "cell_type": "markdown",
   "metadata": {},
   "source": [
    "### ADS Channel seems to be a mixed bag too"
   ]
  },
  {
   "cell_type": "code",
   "execution_count": 124,
   "metadata": {
    "collapsed": true
   },
   "outputs": [],
   "source": [
    "qbrowser=\"\"\"select\n",
    "    browser,\n",
    "    test,\n",
    "    sum(conversion) as conversions,\n",
    "    count(conversion) as users\n",
    "from\n",
    "    df_scrubbed\n",
    "group by\n",
    "    browser,\n",
    "    test\n",
    "\"\"\"\n",
    "browser=pysqldf(qbrowser)"
   ]
  },
  {
   "cell_type": "code",
   "execution_count": 125,
   "metadata": {
    "collapsed": false
   },
   "outputs": [
    {
     "data": {
      "text/plain": [
       "<matplotlib.axes._subplots.AxesSubplot at 0x15b449810>"
      ]
     },
     "execution_count": 125,
     "metadata": {},
     "output_type": "execute_result"
    },
    {
     "data": {
      "image/png": "[encoded data removed]",
      "text/plain": [
       "<matplotlib.figure.Figure at 0x15a312250>"
      ]
     },
     "metadata": {},
     "output_type": "display_data"
    }
   ],
   "source": [
    "browser['response_rate']=browser['conversions']/browser['users']\n",
    "browser.groupby(['browser','test']).sum().unstack()['response_rate'].plot(kind='bar',stacked=False,figsize=(15, 4))"
   ]
  },
  {
   "cell_type": "markdown",
   "metadata": {},
   "source": [
    "### browser may drive some performance\n",
    "It's a long shot - but maybe date??"
   ]
  },
  {
   "cell_type": "code",
   "execution_count": 126,
   "metadata": {
    "collapsed": true
   },
   "outputs": [],
   "source": [
    "qdate=\"\"\"select\n",
    "    date,\n",
    "    test,\n",
    "    sum(conversion) as conversions,\n",
    "    count(conversion) as users\n",
    "from\n",
    "    df_scrubbed\n",
    "group by\n",
    "    date,\n",
    "    test\n",
    "\"\"\"\n",
    "date=pysqldf(qdate)"
   ]
  },
  {
   "cell_type": "code",
   "execution_count": 127,
   "metadata": {
    "collapsed": false
   },
   "outputs": [
    {
     "data": {
      "text/plain": [
       "<matplotlib.axes._subplots.AxesSubplot at 0x15a8a9f50>"
      ]
     },
     "execution_count": 127,
     "metadata": {},
     "output_type": "execute_result"
    },
    {
     "data": {
      "image/png": "[encoded data removed]",
      "text/plain": [
       "<matplotlib.figure.Figure at 0x165dfa1d0>"
      ]
     },
     "metadata": {},
     "output_type": "display_data"
    }
   ],
   "source": [
    "date['response_rate']=date['conversions']/date['users']\n",
    "date.groupby(['date','test']).sum().unstack()['response_rate'].plot(kind='bar',stacked=False,figsize=(15, 4))"
   ]
  },
  {
   "cell_type": "markdown",
   "metadata": {},
   "source": [
    "### Date doesn't seem to matter.\n",
    "Maybe age? It looks discrete enough to not have to bucket them"
   ]
  },
  {
   "cell_type": "code",
   "execution_count": 128,
   "metadata": {
    "collapsed": true
   },
   "outputs": [],
   "source": [
    "qage=\"\"\"select\n",
    "    age,\n",
    "    test,\n",
    "    sum(conversion) as conversions,\n",
    "    count(conversion) as users\n",
    "from\n",
    "    df_scrubbed\n",
    "group by\n",
    "    age,\n",
    "    test\n",
    "\"\"\"\n",
    "age=pysqldf(qage)"
   ]
  },
  {
   "cell_type": "code",
   "execution_count": 129,
   "metadata": {
    "collapsed": false
   },
   "outputs": [
    {
     "data": {
      "text/plain": [
       "<matplotlib.axes._subplots.AxesSubplot at 0x15bb1bb50>"
      ]
     },
     "execution_count": 129,
     "metadata": {},
     "output_type": "execute_result"
    },
    {
     "data": {
      "image/png": "[encoded data removed]",
      "text/plain": [
       "<matplotlib.figure.Figure at 0x165642d90>"
      ]
     },
     "metadata": {},
     "output_type": "display_data"
    }
   ],
   "source": [
    "age=age[age['users'] >= 1000]\n",
    "age['response_rate']=age['conversions']/age['users']\n",
    "age.groupby(['age','test']).sum().unstack()['response_rate'].plot(kind='bar',stacked=False,figsize=(15, 4))"
   ]
  },
  {
   "cell_type": "markdown",
   "metadata": {},
   "source": [
    "### Age is a mixed bag too. \n",
    "\n",
    "# Conclusion:\n",
    "I would not say the test is conclusively negative. There are many factors which appear to drive performance and could very well be predictors of higher performance for test vs control. Right off the bat - some countries perform better than others (according to Response Rate by test and control groups). It may be worthwhile to create specific translations for certain countries (like Mexico, which has many users and also a higher response rate for test than control). Whether or not that is worth doing depends on some practical conditions - like if the added cost of another translation is made up for by the increase in performance.\n",
    "\n",
    "## The problems with this test:\n",
    "This test suffers from a classic example of Simpson's Paradox (https://en.wikipedia.org/wiki/Simpson%27s_paradox). There is quite a bit of variation in the test results when sliced by country, but you lose that information when you aggregate over the country variable. \n",
    "Adding to this the inequalities of the sizes of test and control groups per country, and you can see pretty wild distortion. In this case, the employees at XYZ were unlucky in that the two countries with much higher test users than control users (Uruguay and Argentina) had overall response rates that were far below the overall average. Also Spain had **NO** test users, and the highest response rate, it further contributed to this problem.\n",
    "\n",
    "\n",
    "# Correcting for this in the future:\n",
    "In order to prevent this type of misrepresentation from happening in the future, we would wish to ensure the following:\n",
    "## Ensure that there is an even as possible distribution of test users to control users per variable.\n",
    "In this case country was a factor that drove response rates (more so than test and control) and we saw an uneven assignment of test and control users to some countries (the ones with the most extreme response rates). If we are to perform tests like this again, we would wish to run it in a way that assigned users to test and control such that there are an even number of test and control users for every level of every controllable variable.\n",
    "This is not always possible, but you will be punished more severely if you skew the test and control sizes by a variable that appears to drive performance.\n",
    "\n",
    "\n",
    "\n",
    "## Algorithm to check reliability of test:\n",
    "If we wish to perform an algorithmic check on a test of this nature in the future, it could look something like this:\n",
    "### Psuedocode\n",
    "    For every predictor variable, see if all levels of that predictor variable have roughly the same number of test and control users. If any of the levels are different (say test is less than 90% of control or greater than 110% of control) then return a warning that the test results may be suspicious."
   ]
  },
  {
   "cell_type": "code",
   "execution_count": 134,
   "metadata": {
    "collapsed": true
   },
   "outputs": [],
   "source": [
    "#assign variable for control to aid calculation\n",
    "df['control']=[1 if i==0 else 0 for i in df['test']]"
   ]
  },
  {
   "cell_type": "code",
   "execution_count": 136,
   "metadata": {
    "collapsed": false
   },
   "outputs": [],
   "source": [
    "#do this for every 'meaningful' column in DF\n",
    "comp=df.groupby('country').sum()[['test','control']]"
   ]
  },
  {
   "cell_type": "code",
   "execution_count": 151,
   "metadata": {
    "collapsed": false
   },
   "outputs": [
    {
     "name": "stdout",
     "output_type": "stream",
     "text": [
      "Watch out! Test/control ratio for Argentina is: 3.99497648568\n",
      "Bolivia is OK!\n",
      "Chile is OK!\n",
      "Colombia is OK!\n",
      "Costa Rica is OK!\n",
      "Ecuador is OK!\n",
      "El Salvador is OK!\n",
      "Guatemala is OK!\n",
      "Honduras is OK!\n",
      "Mexico is OK!\n",
      "Nicaragua is OK!\n",
      "Panama is OK!\n",
      "Paraguay is OK!\n",
      "Peru is OK!\n",
      "Watch out! Test/control ratio for Spain is: 0.0\n",
      "Watch out! Test/control ratio for Uruguay is: 8.96144578313\n",
      "Venezuela is OK!\n"
     ]
    }
   ],
   "source": [
    "for i in comp.iterrows():\n",
    "    if (i[1]['test']/i[1]['control'] > 1.10) | (i[1]['test']/i[1]['control'] < .9):\n",
    "        print ('Watch out! Test/control ratio for {} is: {}'.format(i[0],i[1]['test']/i[1]['control']))\n",
    "    else:\n",
    "        print('{} is OK!'.format(i[0]))"
   ]
  },
  {
   "cell_type": "code",
   "execution_count": 152,
   "metadata": {
    "collapsed": true
   },
   "outputs": [],
   "source": [
    "#let's try another factor to see if my thresholds are OK\n",
    "comp_sex=df.groupby('sex').sum()[['test','control']]"
   ]
  },
  {
   "cell_type": "code",
   "execution_count": 153,
   "metadata": {
    "collapsed": false
   },
   "outputs": [
    {
     "name": "stdout",
     "output_type": "stream",
     "text": [
      "F is OK!\n",
      "M is OK!\n"
     ]
    }
   ],
   "source": [
    "for i in comp_sex.iterrows():\n",
    "    if (i[1]['test']/i[1]['control'] > 1.10) | (i[1]['test']/i[1]['control'] < .9):\n",
    "        print ('Watch out! Test/control ratio for {} is: {}'.format(i[0],i[1]['test']/i[1]['control']))\n",
    "    else:\n",
    "        print('{} is OK!'.format(i[0]))"
   ]
  },
  {
   "cell_type": "code",
   "execution_count": 155,
   "metadata": {
    "collapsed": true
   },
   "outputs": [],
   "source": [
    "variables=['date','source','device','browser_language','ads_channel','browser','age','country']"
   ]
  },
  {
   "cell_type": "markdown",
   "metadata": {},
   "source": [
    "Let's run the whole thing:"
   ]
  },
  {
   "cell_type": "code",
   "execution_count": 158,
   "metadata": {
    "collapsed": false
   },
   "outputs": [
    {
     "name": "stdout",
     "output_type": "stream",
     "text": [
      "Watch out! Test/control ratio for Other is: 0.872119295075\n",
      "Watch out! Test/control ratio for Safari is: 0.888311090658\n",
      "Watch out! Test/control ratio for 33 is: 0.897583121912\n",
      "Watch out! Test/control ratio for 34 is: 0.896111694941\n",
      "Watch out! Test/control ratio for 38 is: 0.885520125457\n",
      "Watch out! Test/control ratio for 40 is: 0.88502269289\n",
      "Watch out! Test/control ratio for 43 is: 0.898939929329\n",
      "Watch out! Test/control ratio for 44 is: 0.877177700348\n",
      "Watch out! Test/control ratio for 45 is: 0.850683491062\n",
      "Watch out! Test/control ratio for 46 is: 0.843293492696\n",
      "Watch out! Test/control ratio for 50 is: 0.822878228782\n",
      "Watch out! Test/control ratio for 51 is: 0.884210526316\n",
      "Watch out! Test/control ratio for 52 is: 0.756578947368\n",
      "Watch out! Test/control ratio for 54 is: 0.857142857143\n",
      "Watch out! Test/control ratio for 55 is: 0.816666666667\n",
      "Watch out! Test/control ratio for 56 is: 1.23076923077\n",
      "Watch out! Test/control ratio for 57 is: 0.5\n",
      "Watch out! Test/control ratio for 58 is: 0.363636363636\n",
      "Watch out! Test/control ratio for 59 is: 0.75\n",
      "Watch out! Test/control ratio for 61 is: 0.571428571429\n",
      "Watch out! Test/control ratio for 62 is: 0.25\n",
      "Watch out! Test/control ratio for 63 is: 0.5\n",
      "Watch out! Test/control ratio for 66 is: 0.0\n",
      "Watch out! Test/control ratio for 67 is: 0.0\n",
      "Watch out! Test/control ratio for 68 is: 0.0\n",
      "Watch out! Test/control ratio for 70 is: inf\n",
      "Watch out! Test/control ratio for Argentina is: 3.99497648568\n",
      "Watch out! Test/control ratio for Spain is: 0.0\n",
      "Watch out! Test/control ratio for Uruguay is: 8.96144578313\n"
     ]
    }
   ],
   "source": [
    "for v in variables:\n",
    "    comp_df=df.groupby(v).sum()[['test','control']]\n",
    "    for i in comp_df.iterrows():\n",
    "        if (i[1]['test']/i[1]['control'] > 1.10) | (i[1]['test']/i[1]['control'] < .9):\n",
    "            print ('Watch out! Test/control ratio for {} is: {}'.format(i[0],i[1]['test']/i[1]['control']))\n",
    "        #else:\n",
    "            #print('{} is OK!'.format(i[0]))"
   ]
  },
  {
   "cell_type": "markdown",
   "metadata": {},
   "source": [
    "## OK - I'm happy with these results. \n",
    "If we found out that Age was a driver in performance, some of the inequalities in test/control assignment in the age buckets might hurt the test results. Browser version seems to be a little on the unequal side. Maybe I change my thresholds a little based on how annoying these flags get if we continue to use my test."
   ]
  },
  {
   "cell_type": "markdown",
   "metadata": {
    "collapsed": true
   },
   "source": [
    "# logistic regression\n",
    "I'll try running a logistic regression and take a look at the odds ratio for each factor"
   ]
  },
  {
   "cell_type": "code",
   "execution_count": 7,
   "metadata": {
    "collapsed": false
   },
   "outputs": [
    {
     "name": "stdout",
     "output_type": "stream",
     "text": [
      "country  Argentina  Bolivia  Chile  Colombia  Costa Rica  Ecuador  \\\n",
      "test                                                                \n",
      "0             9356     5550   9853     27088        2660     8036   \n",
      "1            37377     5574   9884     26972        2649     7859   \n",
      "\n",
      "country  El Salvador  Guatemala  Honduras  Mexico  Nicaragua  Panama  \\\n",
      "test                                                                   \n",
      "0               4108       7622      4361   64209       3419    1966   \n",
      "1               4067       7503      4207   64275       3304    1985   \n",
      "\n",
      "country  Paraguay   Peru  Spain  Uruguay  Venezuela  \n",
      "test                                                 \n",
      "0            3650  16869  51782      415      16149  \n",
      "1            3697  16797      0     3719      15905  \n"
     ]
    }
   ],
   "source": [
    "print pd.crosstab(df['test'],df['country'])"
   ]
  },
  {
   "cell_type": "code",
   "execution_count": 17,
   "metadata": {
    "collapsed": false
   },
   "outputs": [
    {
     "data": {
      "text/plain": [
       "<matplotlib.axes._subplots.AxesSubplot at 0x1186ea5d0>"
      ]
     },
     "execution_count": 17,
     "metadata": {},
     "output_type": "execute_result"
    },
    {
     "data": {
      "image/png": "[encoded data removed]",
      "text/plain": [
       "<matplotlib.figure.Figure at 0x1182ab310>"
      ]
     },
     "metadata": {},
     "output_type": "display_data"
    }
   ],
   "source": [
    "df.groupby(['country']).count()['date'].plot(kind='bar')"
   ]
  },
  {
   "cell_type": "code",
   "execution_count": 18,
   "metadata": {
    "collapsed": true
   },
   "outputs": [],
   "source": [
    "#create dummy variables for country\n",
    "dummy_countries=pd.get_dummies(df['country'])"
   ]
  },
  {
   "cell_type": "code",
   "execution_count": 19,
   "metadata": {
    "collapsed": false
   },
   "outputs": [
    {
     "data": {
      "text/html": [
       "<div>\n",
       "<table border=\"1\" class=\"dataframe\">\n",
       "  <thead>\n",
       "    <tr style=\"text-align: right;\">\n",
       "      <th></th>\n",
       "      <th>Argentina</th>\n",
       "      <th>Bolivia</th>\n",
       "      <th>Chile</th>\n",
       "      <th>Colombia</th>\n",
       "      <th>Costa Rica</th>\n",
       "      <th>Ecuador</th>\n",
       "      <th>El Salvador</th>\n",
       "      <th>Guatemala</th>\n",
       "      <th>Honduras</th>\n",
       "      <th>Mexico</th>\n",
       "      <th>Nicaragua</th>\n",
       "      <th>Panama</th>\n",
       "      <th>Paraguay</th>\n",
       "      <th>Peru</th>\n",
       "      <th>Spain</th>\n",
       "      <th>Uruguay</th>\n",
       "      <th>Venezuela</th>\n",
       "    </tr>\n",
       "  </thead>\n",
       "  <tbody>\n",
       "    <tr>\n",
       "      <th>0</th>\n",
       "      <td>0.0</td>\n",
       "      <td>0.0</td>\n",
       "      <td>0.0</td>\n",
       "      <td>0.0</td>\n",
       "      <td>0.0</td>\n",
       "      <td>0.0</td>\n",
       "      <td>0.0</td>\n",
       "      <td>0.0</td>\n",
       "      <td>0.0</td>\n",
       "      <td>0.0</td>\n",
       "      <td>0.0</td>\n",
       "      <td>0.0</td>\n",
       "      <td>0.0</td>\n",
       "      <td>0.0</td>\n",
       "      <td>1.0</td>\n",
       "      <td>0.0</td>\n",
       "      <td>0.0</td>\n",
       "    </tr>\n",
       "    <tr>\n",
       "      <th>1</th>\n",
       "      <td>0.0</td>\n",
       "      <td>0.0</td>\n",
       "      <td>0.0</td>\n",
       "      <td>0.0</td>\n",
       "      <td>0.0</td>\n",
       "      <td>0.0</td>\n",
       "      <td>0.0</td>\n",
       "      <td>0.0</td>\n",
       "      <td>0.0</td>\n",
       "      <td>1.0</td>\n",
       "      <td>0.0</td>\n",
       "      <td>0.0</td>\n",
       "      <td>0.0</td>\n",
       "      <td>0.0</td>\n",
       "      <td>0.0</td>\n",
       "      <td>0.0</td>\n",
       "      <td>0.0</td>\n",
       "    </tr>\n",
       "    <tr>\n",
       "      <th>2</th>\n",
       "      <td>0.0</td>\n",
       "      <td>0.0</td>\n",
       "      <td>0.0</td>\n",
       "      <td>0.0</td>\n",
       "      <td>0.0</td>\n",
       "      <td>0.0</td>\n",
       "      <td>0.0</td>\n",
       "      <td>0.0</td>\n",
       "      <td>0.0</td>\n",
       "      <td>0.0</td>\n",
       "      <td>0.0</td>\n",
       "      <td>0.0</td>\n",
       "      <td>0.0</td>\n",
       "      <td>0.0</td>\n",
       "      <td>1.0</td>\n",
       "      <td>0.0</td>\n",
       "      <td>0.0</td>\n",
       "    </tr>\n",
       "    <tr>\n",
       "      <th>3</th>\n",
       "      <td>0.0</td>\n",
       "      <td>0.0</td>\n",
       "      <td>0.0</td>\n",
       "      <td>0.0</td>\n",
       "      <td>0.0</td>\n",
       "      <td>0.0</td>\n",
       "      <td>0.0</td>\n",
       "      <td>0.0</td>\n",
       "      <td>0.0</td>\n",
       "      <td>1.0</td>\n",
       "      <td>0.0</td>\n",
       "      <td>0.0</td>\n",
       "      <td>0.0</td>\n",
       "      <td>0.0</td>\n",
       "      <td>0.0</td>\n",
       "      <td>0.0</td>\n",
       "      <td>0.0</td>\n",
       "    </tr>\n",
       "    <tr>\n",
       "      <th>4</th>\n",
       "      <td>0.0</td>\n",
       "      <td>0.0</td>\n",
       "      <td>0.0</td>\n",
       "      <td>0.0</td>\n",
       "      <td>0.0</td>\n",
       "      <td>0.0</td>\n",
       "      <td>0.0</td>\n",
       "      <td>0.0</td>\n",
       "      <td>0.0</td>\n",
       "      <td>1.0</td>\n",
       "      <td>0.0</td>\n",
       "      <td>0.0</td>\n",
       "      <td>0.0</td>\n",
       "      <td>0.0</td>\n",
       "      <td>0.0</td>\n",
       "      <td>0.0</td>\n",
       "      <td>0.0</td>\n",
       "    </tr>\n",
       "  </tbody>\n",
       "</table>\n",
       "</div>"
      ],
      "text/plain": [
       "   Argentina  Bolivia  Chile  Colombia  Costa Rica  Ecuador  El Salvador  \\\n",
       "0        0.0      0.0    0.0       0.0         0.0      0.0          0.0   \n",
       "1        0.0      0.0    0.0       0.0         0.0      0.0          0.0   \n",
       "2        0.0      0.0    0.0       0.0         0.0      0.0          0.0   \n",
       "3        0.0      0.0    0.0       0.0         0.0      0.0          0.0   \n",
       "4        0.0      0.0    0.0       0.0         0.0      0.0          0.0   \n",
       "\n",
       "   Guatemala  Honduras  Mexico  Nicaragua  Panama  Paraguay  Peru  Spain  \\\n",
       "0        0.0       0.0     0.0        0.0     0.0       0.0   0.0    1.0   \n",
       "1        0.0       0.0     1.0        0.0     0.0       0.0   0.0    0.0   \n",
       "2        0.0       0.0     0.0        0.0     0.0       0.0   0.0    1.0   \n",
       "3        0.0       0.0     1.0        0.0     0.0       0.0   0.0    0.0   \n",
       "4        0.0       0.0     1.0        0.0     0.0       0.0   0.0    0.0   \n",
       "\n",
       "   Uruguay  Venezuela  \n",
       "0      0.0        0.0  \n",
       "1      0.0        0.0  \n",
       "2      0.0        0.0  \n",
       "3      0.0        0.0  \n",
       "4      0.0        0.0  "
      ]
     },
     "execution_count": 19,
     "metadata": {},
     "output_type": "execute_result"
    }
   ],
   "source": [
    "dummy_countries.head()"
   ]
  },
  {
   "cell_type": "code",
   "execution_count": 37,
   "metadata": {
    "collapsed": false
   },
   "outputs": [],
   "source": [
    "#join back to df\n",
    "model_df=df.join(dummy_countries)"
   ]
  },
  {
   "cell_type": "code",
   "execution_count": 38,
   "metadata": {
    "collapsed": true
   },
   "outputs": [],
   "source": [
    "model_df['intercept']=1.0"
   ]
  },
  {
   "cell_type": "code",
   "execution_count": 66,
   "metadata": {
    "collapsed": false
   },
   "outputs": [],
   "source": [
    "all_cols=model_df.columns\n",
    "train_cols=[i for i in all_cols if i not in ['conversion','date','user_id','source','device','browser_language','ads_channel','browser','sex','age','country','test']]"
   ]
  },
  {
   "cell_type": "code",
   "execution_count": 67,
   "metadata": {
    "collapsed": false
   },
   "outputs": [
    {
     "data": {
      "text/plain": [
       "['Argentina',\n",
       " 'Bolivia',\n",
       " 'Chile',\n",
       " 'Colombia',\n",
       " 'Costa Rica',\n",
       " 'Ecuador',\n",
       " 'El Salvador',\n",
       " 'Guatemala',\n",
       " 'Honduras',\n",
       " 'Mexico',\n",
       " 'Nicaragua',\n",
       " 'Panama',\n",
       " 'Paraguay',\n",
       " 'Peru',\n",
       " 'Spain',\n",
       " 'Uruguay',\n",
       " 'Venezuela',\n",
       " 'intercept']"
      ]
     },
     "execution_count": 67,
     "metadata": {},
     "output_type": "execute_result"
    }
   ],
   "source": [
    "train_cols"
   ]
  },
  {
   "cell_type": "code",
   "execution_count": 68,
   "metadata": {
    "collapsed": false
   },
   "outputs": [
    {
     "name": "stdout",
     "output_type": "stream",
     "text": [
      "Optimization terminated successfully.\n",
      "         Current function value: 0.194171\n",
      "         Iterations 14\n"
     ]
    }
   ],
   "source": [
    "logit=sm.Logit(model_df['conversion'],model_df[train_cols])\n",
    "result=logit.fit()"
   ]
  },
  {
   "cell_type": "code",
   "execution_count": 69,
   "metadata": {
    "collapsed": false
   },
   "outputs": [
    {
     "name": "stdout",
     "output_type": "stream",
     "text": [
      "                           Logit Regression Results                           \n",
      "==============================================================================\n",
      "Dep. Variable:             conversion   No. Observations:               452867\n",
      "Model:                          Logit   Df Residuals:                   452850\n",
      "Method:                           MLE   Df Model:                           16\n",
      "Date:                Tue, 01 Nov 2016   Pseudo R-squ.:                 0.01545\n",
      "Time:                        17:07:47   Log-Likelihood:                -87934.\n",
      "converged:                       True   LL-Null:                       -89313.\n",
      "                                        LLR p-value:                     0.000\n",
      "===============================================================================\n",
      "                  coef    std err          z      P>|z|      [95.0% Conf. Int.]\n",
      "-------------------------------------------------------------------------------\n",
      "Argentina      -1.3539   1.65e+05   -8.2e-06      1.000     -3.23e+05  3.23e+05\n",
      "Bolivia        -0.0724   1.65e+05  -4.39e-07      1.000     -3.23e+05  3.23e+05\n",
      "Chile          -0.0495   1.65e+05     -3e-07      1.000     -3.23e+05  3.23e+05\n",
      "Colombia       -0.0156   1.65e+05  -9.45e-08      1.000     -3.23e+05  3.23e+05\n",
      "Costa Rica      0.0279   1.65e+05   1.69e-07      1.000     -3.23e+05  3.23e+05\n",
      "Ecuador        -0.0630   1.65e+05  -3.82e-07      1.000     -3.23e+05  3.23e+05\n",
      "El Salvador    -0.0273   1.65e+05  -1.65e-07      1.000     -3.23e+05  3.23e+05\n",
      "Guatemala      -0.0506   1.65e+05  -3.07e-07      1.000     -3.23e+05  3.23e+05\n",
      "Honduras       -0.0591   1.65e+05  -3.58e-07      1.000     -3.23e+05  3.23e+05\n",
      "Mexico         -0.0361   1.65e+05  -2.19e-07      1.000     -3.23e+05  3.23e+05\n",
      "Nicaragua       0.0261   1.65e+05   1.58e-07      1.000     -3.23e+05  3.23e+05\n",
      "Panama         -0.0843   1.65e+05  -5.11e-07      1.000     -3.23e+05  3.23e+05\n",
      "Paraguay       -0.0675   1.65e+05  -4.09e-07      1.000     -3.23e+05  3.23e+05\n",
      "Peru           -0.0379   1.65e+05  -2.29e-07      1.000     -3.23e+05  3.23e+05\n",
      "Spain           0.4550   1.65e+05   2.76e-06      1.000     -3.23e+05  3.23e+05\n",
      "Uruguay        -1.4427   1.65e+05  -8.74e-06      1.000     -3.23e+05  3.23e+05\n",
      "Venezuela      -0.0503   1.65e+05  -3.05e-07      1.000     -3.23e+05  3.23e+05\n",
      "intercept      -2.9012   1.65e+05  -1.76e-05      1.000     -3.23e+05  3.23e+05\n",
      "===============================================================================\n"
     ]
    }
   ],
   "source": [
    " print result.summary()"
   ]
  },
  {
   "cell_type": "code",
   "execution_count": 73,
   "metadata": {
    "collapsed": false
   },
   "outputs": [
    {
     "name": "stdout",
     "output_type": "stream",
     "text": [
      "Argentina      0.258244\n",
      "Bolivia        0.930131\n",
      "Chile          0.951665\n",
      "Colombia       0.984528\n",
      "Costa Rica     1.028343\n",
      "Ecuador        0.938949\n",
      "El Salvador    0.973065\n",
      "Guatemala      0.950644\n",
      "Honduras       0.942592\n",
      "Mexico         0.964514\n",
      "Nicaragua      1.026407\n",
      "Panama         0.919191\n",
      "Paraguay       0.934753\n",
      "Peru           0.962851\n",
      "Spain          1.576144\n",
      "Uruguay        0.236301\n",
      "Venezuela      0.950912\n",
      "intercept      0.054960\n",
      "dtype: float64\n"
     ]
    }
   ],
   "source": [
    "print(np.exp(result.params))"
   ]
  },
  {
   "cell_type": "code",
   "execution_count": 80,
   "metadata": {
    "collapsed": false
   },
   "outputs": [
    {
     "data": {
      "text/html": [
       "<div>\n",
       "<table border=\"1\" class=\"dataframe\">\n",
       "  <thead>\n",
       "    <tr style=\"text-align: right;\">\n",
       "      <th></th>\n",
       "      <th>user_id</th>\n",
       "      <th>conversion</th>\n",
       "      <th>test</th>\n",
       "      <th>age</th>\n",
       "      <th>Argentina</th>\n",
       "      <th>Bolivia</th>\n",
       "      <th>Chile</th>\n",
       "      <th>Colombia</th>\n",
       "      <th>Costa Rica</th>\n",
       "      <th>Ecuador</th>\n",
       "      <th>...</th>\n",
       "      <th>Honduras</th>\n",
       "      <th>Mexico</th>\n",
       "      <th>Nicaragua</th>\n",
       "      <th>Panama</th>\n",
       "      <th>Paraguay</th>\n",
       "      <th>Peru</th>\n",
       "      <th>Spain</th>\n",
       "      <th>Uruguay</th>\n",
       "      <th>Venezuela</th>\n",
       "      <th>intercept</th>\n",
       "    </tr>\n",
       "  </thead>\n",
       "  <tbody>\n",
       "    <tr>\n",
       "      <th>count</th>\n",
       "      <td>128484.000000</td>\n",
       "      <td>128484.000000</td>\n",
       "      <td>128484.000000</td>\n",
       "      <td>128484.000000</td>\n",
       "      <td>128484.0</td>\n",
       "      <td>128484.0</td>\n",
       "      <td>128484.0</td>\n",
       "      <td>128484.0</td>\n",
       "      <td>128484.0</td>\n",
       "      <td>128484.0</td>\n",
       "      <td>...</td>\n",
       "      <td>128484.0</td>\n",
       "      <td>128484.0</td>\n",
       "      <td>128484.0</td>\n",
       "      <td>128484.0</td>\n",
       "      <td>128484.0</td>\n",
       "      <td>128484.0</td>\n",
       "      <td>128484.0</td>\n",
       "      <td>128484.0</td>\n",
       "      <td>128484.0</td>\n",
       "      <td>128484.0</td>\n",
       "    </tr>\n",
       "    <tr>\n",
       "      <th>mean</th>\n",
       "      <td>500617.230356</td>\n",
       "      <td>0.050341</td>\n",
       "      <td>0.500257</td>\n",
       "      <td>27.118209</td>\n",
       "      <td>0.0</td>\n",
       "      <td>0.0</td>\n",
       "      <td>0.0</td>\n",
       "      <td>0.0</td>\n",
       "      <td>0.0</td>\n",
       "      <td>0.0</td>\n",
       "      <td>...</td>\n",
       "      <td>0.0</td>\n",
       "      <td>1.0</td>\n",
       "      <td>0.0</td>\n",
       "      <td>0.0</td>\n",
       "      <td>0.0</td>\n",
       "      <td>0.0</td>\n",
       "      <td>0.0</td>\n",
       "      <td>0.0</td>\n",
       "      <td>0.0</td>\n",
       "      <td>1.0</td>\n",
       "    </tr>\n",
       "    <tr>\n",
       "      <th>std</th>\n",
       "      <td>288400.487613</td>\n",
       "      <td>0.218648</td>\n",
       "      <td>0.500002</td>\n",
       "      <td>6.780547</td>\n",
       "      <td>0.0</td>\n",
       "      <td>0.0</td>\n",
       "      <td>0.0</td>\n",
       "      <td>0.0</td>\n",
       "      <td>0.0</td>\n",
       "      <td>0.0</td>\n",
       "      <td>...</td>\n",
       "      <td>0.0</td>\n",
       "      <td>0.0</td>\n",
       "      <td>0.0</td>\n",
       "      <td>0.0</td>\n",
       "      <td>0.0</td>\n",
       "      <td>0.0</td>\n",
       "      <td>0.0</td>\n",
       "      <td>0.0</td>\n",
       "      <td>0.0</td>\n",
       "      <td>0.0</td>\n",
       "    </tr>\n",
       "    <tr>\n",
       "      <th>min</th>\n",
       "      <td>15.000000</td>\n",
       "      <td>0.000000</td>\n",
       "      <td>0.000000</td>\n",
       "      <td>18.000000</td>\n",
       "      <td>0.0</td>\n",
       "      <td>0.0</td>\n",
       "      <td>0.0</td>\n",
       "      <td>0.0</td>\n",
       "      <td>0.0</td>\n",
       "      <td>0.0</td>\n",
       "      <td>...</td>\n",
       "      <td>0.0</td>\n",
       "      <td>1.0</td>\n",
       "      <td>0.0</td>\n",
       "      <td>0.0</td>\n",
       "      <td>0.0</td>\n",
       "      <td>0.0</td>\n",
       "      <td>0.0</td>\n",
       "      <td>0.0</td>\n",
       "      <td>0.0</td>\n",
       "      <td>1.0</td>\n",
       "    </tr>\n",
       "    <tr>\n",
       "      <th>25%</th>\n",
       "      <td>250716.500000</td>\n",
       "      <td>0.000000</td>\n",
       "      <td>0.000000</td>\n",
       "      <td>22.000000</td>\n",
       "      <td>0.0</td>\n",
       "      <td>0.0</td>\n",
       "      <td>0.0</td>\n",
       "      <td>0.0</td>\n",
       "      <td>0.0</td>\n",
       "      <td>0.0</td>\n",
       "      <td>...</td>\n",
       "      <td>0.0</td>\n",
       "      <td>1.0</td>\n",
       "      <td>0.0</td>\n",
       "      <td>0.0</td>\n",
       "      <td>0.0</td>\n",
       "      <td>0.0</td>\n",
       "      <td>0.0</td>\n",
       "      <td>0.0</td>\n",
       "      <td>0.0</td>\n",
       "      <td>1.0</td>\n",
       "    </tr>\n",
       "    <tr>\n",
       "      <th>50%</th>\n",
       "      <td>500854.500000</td>\n",
       "      <td>0.000000</td>\n",
       "      <td>1.000000</td>\n",
       "      <td>26.000000</td>\n",
       "      <td>0.0</td>\n",
       "      <td>0.0</td>\n",
       "      <td>0.0</td>\n",
       "      <td>0.0</td>\n",
       "      <td>0.0</td>\n",
       "      <td>0.0</td>\n",
       "      <td>...</td>\n",
       "      <td>0.0</td>\n",
       "      <td>1.0</td>\n",
       "      <td>0.0</td>\n",
       "      <td>0.0</td>\n",
       "      <td>0.0</td>\n",
       "      <td>0.0</td>\n",
       "      <td>0.0</td>\n",
       "      <td>0.0</td>\n",
       "      <td>0.0</td>\n",
       "      <td>1.0</td>\n",
       "    </tr>\n",
       "    <tr>\n",
       "      <th>75%</th>\n",
       "      <td>749689.250000</td>\n",
       "      <td>0.000000</td>\n",
       "      <td>1.000000</td>\n",
       "      <td>31.000000</td>\n",
       "      <td>0.0</td>\n",
       "      <td>0.0</td>\n",
       "      <td>0.0</td>\n",
       "      <td>0.0</td>\n",
       "      <td>0.0</td>\n",
       "      <td>0.0</td>\n",
       "      <td>...</td>\n",
       "      <td>0.0</td>\n",
       "      <td>1.0</td>\n",
       "      <td>0.0</td>\n",
       "      <td>0.0</td>\n",
       "      <td>0.0</td>\n",
       "      <td>0.0</td>\n",
       "      <td>0.0</td>\n",
       "      <td>0.0</td>\n",
       "      <td>0.0</td>\n",
       "      <td>1.0</td>\n",
       "    </tr>\n",
       "    <tr>\n",
       "      <th>max</th>\n",
       "      <td>999961.000000</td>\n",
       "      <td>1.000000</td>\n",
       "      <td>1.000000</td>\n",
       "      <td>70.000000</td>\n",
       "      <td>0.0</td>\n",
       "      <td>0.0</td>\n",
       "      <td>0.0</td>\n",
       "      <td>0.0</td>\n",
       "      <td>0.0</td>\n",
       "      <td>0.0</td>\n",
       "      <td>...</td>\n",
       "      <td>0.0</td>\n",
       "      <td>1.0</td>\n",
       "      <td>0.0</td>\n",
       "      <td>0.0</td>\n",
       "      <td>0.0</td>\n",
       "      <td>0.0</td>\n",
       "      <td>0.0</td>\n",
       "      <td>0.0</td>\n",
       "      <td>0.0</td>\n",
       "      <td>1.0</td>\n",
       "    </tr>\n",
       "  </tbody>\n",
       "</table>\n",
       "<p>8 rows × 22 columns</p>\n",
       "</div>"
      ],
      "text/plain": [
       "             user_id     conversion           test            age  Argentina  \\\n",
       "count  128484.000000  128484.000000  128484.000000  128484.000000   128484.0   \n",
       "mean   500617.230356       0.050341       0.500257      27.118209        0.0   \n",
       "std    288400.487613       0.218648       0.500002       6.780547        0.0   \n",
       "min        15.000000       0.000000       0.000000      18.000000        0.0   \n",
       "25%    250716.500000       0.000000       0.000000      22.000000        0.0   \n",
       "50%    500854.500000       0.000000       1.000000      26.000000        0.0   \n",
       "75%    749689.250000       0.000000       1.000000      31.000000        0.0   \n",
       "max    999961.000000       1.000000       1.000000      70.000000        0.0   \n",
       "\n",
       "        Bolivia     Chile  Colombia  Costa Rica   Ecuador    ...      \\\n",
       "count  128484.0  128484.0  128484.0    128484.0  128484.0    ...       \n",
       "mean        0.0       0.0       0.0         0.0       0.0    ...       \n",
       "std         0.0       0.0       0.0         0.0       0.0    ...       \n",
       "min         0.0       0.0       0.0         0.0       0.0    ...       \n",
       "25%         0.0       0.0       0.0         0.0       0.0    ...       \n",
       "50%         0.0       0.0       0.0         0.0       0.0    ...       \n",
       "75%         0.0       0.0       0.0         0.0       0.0    ...       \n",
       "max         0.0       0.0       0.0         0.0       0.0    ...       \n",
       "\n",
       "       Honduras    Mexico  Nicaragua    Panama  Paraguay      Peru     Spain  \\\n",
       "count  128484.0  128484.0   128484.0  128484.0  128484.0  128484.0  128484.0   \n",
       "mean        0.0       1.0        0.0       0.0       0.0       0.0       0.0   \n",
       "std         0.0       0.0        0.0       0.0       0.0       0.0       0.0   \n",
       "min         0.0       1.0        0.0       0.0       0.0       0.0       0.0   \n",
       "25%         0.0       1.0        0.0       0.0       0.0       0.0       0.0   \n",
       "50%         0.0       1.0        0.0       0.0       0.0       0.0       0.0   \n",
       "75%         0.0       1.0        0.0       0.0       0.0       0.0       0.0   \n",
       "max         0.0       1.0        0.0       0.0       0.0       0.0       0.0   \n",
       "\n",
       "        Uruguay  Venezuela  intercept  \n",
       "count  128484.0   128484.0   128484.0  \n",
       "mean        0.0        0.0        1.0  \n",
       "std         0.0        0.0        0.0  \n",
       "min         0.0        0.0        1.0  \n",
       "25%         0.0        0.0        1.0  \n",
       "50%         0.0        0.0        1.0  \n",
       "75%         0.0        0.0        1.0  \n",
       "max         0.0        0.0        1.0  \n",
       "\n",
       "[8 rows x 22 columns]"
      ]
     },
     "execution_count": 80,
     "metadata": {},
     "output_type": "execute_result"
    }
   ],
   "source": [
    "#let's run this with only Costa Rica\n",
    "restricted_data=model_df[model_df['Mexico'] == 1]\n",
    "restricted_data.describe()"
   ]
  },
  {
   "cell_type": "code",
   "execution_count": 87,
   "metadata": {
    "collapsed": false
   },
   "outputs": [
    {
     "name": "stdout",
     "output_type": "stream",
     "text": [
      "Optimization terminated successfully.\n",
      "         Current function value: 0.199510\n",
      "         Iterations 7\n"
     ]
    }
   ],
   "source": [
    "logit=sm.Logit(restricted_data['conversion'],restricted_data[['test','intercept']])\n",
    "result=logit.fit()"
   ]
  },
  {
   "cell_type": "code",
   "execution_count": 88,
   "metadata": {
    "collapsed": false
   },
   "outputs": [
    {
     "name": "stdout",
     "output_type": "stream",
     "text": [
      "                           Logit Regression Results                           \n",
      "==============================================================================\n",
      "Dep. Variable:             conversion   No. Observations:               128484\n",
      "Model:                          Logit   Df Residuals:                   128482\n",
      "Method:                           MLE   Df Model:                            1\n",
      "Date:                Tue, 01 Nov 2016   Pseudo R-squ.:               3.751e-05\n",
      "Time:                        18:00:22   Log-Likelihood:                -25634.\n",
      "converged:                       True   LL-Null:                       -25635.\n",
      "                                        LLR p-value:                    0.1655\n",
      "==============================================================================\n",
      "                 coef    std err          z      P>|z|      [95.0% Conf. Int.]\n",
      "------------------------------------------------------------------------------\n",
      "test           0.0354      0.026      1.387      0.166        -0.015     0.085\n",
      "intercept     -2.9551      0.018   -162.417      0.000        -2.991    -2.919\n",
      "==============================================================================\n"
     ]
    }
   ],
   "source": [
    "print result.summary()"
   ]
  },
  {
   "cell_type": "code",
   "execution_count": 89,
   "metadata": {
    "collapsed": false
   },
   "outputs": [
    {
     "name": "stdout",
     "output_type": "stream",
     "text": [
      "test            0      1\n",
      "conversion              \n",
      "0           61031  60985\n",
      "1            3178   3290\n"
     ]
    }
   ],
   "source": [
    "print pd.crosstab(restricted_data['conversion'],restricted_data['test'],rownames=['conversion'])"
   ]
  },
  {
   "cell_type": "code",
   "execution_count": 94,
   "metadata": {
    "collapsed": false
   },
   "outputs": [
    {
     "name": "stdout",
     "output_type": "stream",
     "text": [
      "0.0539476920554\n",
      "0.052071897888\n",
      "-2.91974036752\n",
      "-2.95512986369\n",
      "0.035389496174\n"
     ]
    }
   ],
   "source": [
    "#\n",
    "t_test=3290 + 60985\n",
    "t_control=3178 + 61031\n",
    "odds_for_test=(3290/t_test)/(60985/t_test)\n",
    "odds_for_control=(3178/t_control)/(61031/t_control)\n",
    "print(odds_for_test)\n",
    "print(odds_for_control)\n",
    "print(np.log(odds_for_test))\n",
    "print(np.log(odds_for_control))\n",
    "print(np.log((odds_for_test/odds_for_control)))"
   ]
  },
  {
   "cell_type": "code",
   "execution_count": 95,
   "metadata": {
    "collapsed": false
   },
   "outputs": [
    {
     "data": {
      "text/html": [
       "<div>\n",
       "<table border=\"1\" class=\"dataframe\">\n",
       "  <thead>\n",
       "    <tr style=\"text-align: right;\">\n",
       "      <th></th>\n",
       "      <th>0</th>\n",
       "      <th>1</th>\n",
       "    </tr>\n",
       "  </thead>\n",
       "  <tbody>\n",
       "    <tr>\n",
       "      <th>test</th>\n",
       "      <td>-0.014634</td>\n",
       "      <td>0.085413</td>\n",
       "    </tr>\n",
       "    <tr>\n",
       "      <th>intercept</th>\n",
       "      <td>-2.990791</td>\n",
       "      <td>-2.919469</td>\n",
       "    </tr>\n",
       "  </tbody>\n",
       "</table>\n",
       "</div>"
      ],
      "text/plain": [
       "                  0         1\n",
       "test      -0.014634  0.085413\n",
       "intercept -2.990791 -2.919469"
      ]
     },
     "execution_count": 95,
     "metadata": {},
     "output_type": "execute_result"
    }
   ],
   "source": [
    "result.conf_int()"
   ]
  },
  {
   "cell_type": "code",
   "execution_count": 96,
   "metadata": {
    "collapsed": false
   },
   "outputs": [
    {
     "data": {
      "text/plain": [
       "test         0.035389\n",
       "intercept   -2.955130\n",
       "dtype: float64"
      ]
     },
     "execution_count": 96,
     "metadata": {},
     "output_type": "execute_result"
    }
   ],
   "source": [
    "result.params"
   ]
  },
  {
   "cell_type": "code",
   "execution_count": null,
   "metadata": {
    "collapsed": true
   },
   "outputs": [],
   "source": []
  }
 ],
 "metadata": {
  "anaconda-cloud": {},
  "kernelspec": {
   "display_name": "Python [Root]",
   "language": "python",
   "name": "Python [Root]"
  },
  "language_info": {
   "codemirror_mode": {
    "name": "ipython",
    "version": 2
   },
   "file_extension": ".py",
   "mimetype": "text/x-python",
   "name": "python",
   "nbconvert_exporter": "python",
   "pygments_lexer": "ipython2",
   "version": "2.7.12"
  }
 },
 "nbformat": 4,
 "nbformat_minor": 0
}
